{
 "cells": [
  {
   "cell_type": "code",
   "execution_count": 85,
   "id": "f3c33311",
   "metadata": {},
   "outputs": [],
   "source": [
    "import pandas as pd\n",
    "import seaborn as sns\n",
    "from sklearn.feature_extraction import DictVectorizer"
   ]
  },
  {
   "cell_type": "code",
   "execution_count": 86,
   "id": "f7b5062a",
   "metadata": {},
   "outputs": [],
   "source": [
    "def read_data(month: str):\n",
    "    filename = \"data/fhv_tripdata_2021-{}.parquet\".format(month)\n",
    "    df = pd.read_parquet(filename)\n",
    "    return df\n"
   ]
  },
  {
   "cell_type": "code",
   "execution_count": 87,
   "id": "9c8c6f22",
   "metadata": {},
   "outputs": [
    {
     "name": "stdout",
     "output_type": "stream",
     "text": [
      "There are 1154112 entries for january\n"
     ]
    }
   ],
   "source": [
    "df = read_data(\"01\")\n",
    "print(\"There are {} entries for january\".format(len(jan_data)))"
   ]
  },
  {
   "cell_type": "code",
   "execution_count": 88,
   "id": "c4af8220",
   "metadata": {},
   "outputs": [],
   "source": [
    "df['duration'] = (df[\"dropOff_datetime\"] - df[\"pickup_datetime\"]).apply(lambda x: x.total_seconds()/60)"
   ]
  },
  {
   "cell_type": "code",
   "execution_count": 89,
   "id": "8318e8ab",
   "metadata": {},
   "outputs": [
    {
     "data": {
      "text/plain": [
       "19.1672240937939"
      ]
     },
     "execution_count": 89,
     "metadata": {},
     "output_type": "execute_result"
    }
   ],
   "source": [
    "df['duration'].mean()"
   ]
  },
  {
   "cell_type": "code",
   "execution_count": 90,
   "id": "014591e2",
   "metadata": {},
   "outputs": [
    {
     "name": "stderr",
     "output_type": "stream",
     "text": [
      "/home/ubuntu/anaconda3/lib/python3.9/site-packages/seaborn/distributions.py:2619: FutureWarning: `distplot` is a deprecated function and will be removed in a future version. Please adapt your code to use either `displot` (a figure-level function with similar flexibility) or `histplot` (an axes-level function for histograms).\n",
      "  warnings.warn(msg, FutureWarning)\n"
     ]
    },
    {
     "data": {
      "text/plain": [
       "<AxesSubplot:xlabel='duration', ylabel='Density'>"
      ]
     },
     "execution_count": 90,
     "metadata": {},
     "output_type": "execute_result"
    },
    {
     "data": {
      "image/png": "[encoded data removed]",
      "text/plain": [
       "<Figure size 432x288 with 1 Axes>"
      ]
     },
     "metadata": {
      "needs_background": "light"
     },
     "output_type": "display_data"
    }
   ],
   "source": [
    "sns.distplot(df['duration'])"
   ]
  },
  {
   "cell_type": "code",
   "execution_count": 91,
   "id": "401ed403",
   "metadata": {},
   "outputs": [
    {
     "data": {
      "text/plain": [
       "count    1.154112e+06\n",
       "mean     1.916722e+01\n",
       "std      3.986922e+02\n",
       "min      1.666667e-02\n",
       "25%      7.766667e+00\n",
       "50%      1.340000e+01\n",
       "75%      2.228333e+01\n",
       "max      4.233710e+05\n",
       "Name: duration, dtype: float64"
      ]
     },
     "execution_count": 91,
     "metadata": {},
     "output_type": "execute_result"
    }
   ],
   "source": [
    "df['duration'].describe()"
   ]
  },
  {
   "cell_type": "code",
   "execution_count": 92,
   "id": "a27dd917",
   "metadata": {},
   "outputs": [
    {
     "data": {
      "text/plain": [
       "44286"
      ]
     },
     "execution_count": 92,
     "metadata": {},
     "output_type": "execute_result"
    }
   ],
   "source": [
    "len(df) - len(df[(df['duration']<=60) & (df['duration']>=1)])"
   ]
  },
  {
   "cell_type": "code",
   "execution_count": 93,
   "id": "c55370db",
   "metadata": {},
   "outputs": [],
   "source": [
    "df = df[(df['duration']<=60) & (df['duration']>=1)]"
   ]
  },
  {
   "cell_type": "code",
   "execution_count": 94,
   "id": "cc97068e",
   "metadata": {},
   "outputs": [
    {
     "name": "stdout",
     "output_type": "stream",
     "text": [
      "PU NAN:  0.8352732770722617\n",
      "DO NAN:  0.13327044059158824\n"
     ]
    }
   ],
   "source": [
    "df['PUlocationID'] = df['PUlocationID'].fillna(-1)\n",
    "df['DOlocationID'] = df['DOlocationID'].fillna(-1)\n",
    "\n",
    "print(\"PU NAN: \", df['PUlocationID'].value_counts(normalize=True)[-1])\n",
    "print(\"DO NAN: \",df['DOlocationID'].value_counts(normalize=True)[-1])\n",
    "\n",
    "\n"
   ]
  },
  {
   "cell_type": "code",
   "execution_count": 95,
   "id": "d488f9db",
   "metadata": {},
   "outputs": [],
   "source": [
    "df['PUlocationID'] = df['PUlocationID'].astype(str)\n",
    "df['DOlocationID'] = df['DOlocationID'].astype(str)\n",
    "\n",
    "dic_vec = DictVectorizer()\n",
    "\n"
   ]
  },
  {
   "cell_type": "code",
   "execution_count": 96,
   "id": "e49cf4da",
   "metadata": {},
   "outputs": [
    {
     "data": {
      "text/plain": [
       "<1109826x525 sparse matrix of type '<class 'numpy.float64'>'\n",
       "\twith 2219652 stored elements in Compressed Sparse Row format>"
      ]
     },
     "execution_count": 96,
     "metadata": {},
     "output_type": "execute_result"
    }
   ],
   "source": [
    "X_train = dic_vec.fit_transform(df[['PUlocationID', 'DOlocationID']].to_dict(orient = \"records\"))\n",
    "X_train\n"
   ]
  },
  {
   "cell_type": "code",
   "execution_count": 97,
   "id": "76d4e7ff",
   "metadata": {},
   "outputs": [
    {
     "data": {
      "text/plain": [
       "LinearRegression()"
      ]
     },
     "execution_count": 97,
     "metadata": {},
     "output_type": "execute_result"
    }
   ],
   "source": [
    "from sklearn.linear_model import LinearRegression\n",
    "from sklearn.metrics import mean_squared_error\n",
    "\n",
    "y_train = df['duration']\n",
    "\n",
    "\n",
    "\n",
    "lr = LinearRegression()\n",
    "\n",
    "lr.fit(X_train, y_train)"
   ]
  },
  {
   "cell_type": "code",
   "execution_count": 98,
   "id": "b8e5a144",
   "metadata": {},
   "outputs": [
    {
     "data": {
      "text/plain": [
       "10.528519107206316"
      ]
     },
     "execution_count": 98,
     "metadata": {},
     "output_type": "execute_result"
    }
   ],
   "source": [
    "y_pred = lr.predict(X_train)\n",
    "rmse_train = mean_squared_error(y_train, y_pred, squared = False)\n",
    "rmse_train"
   ]
  },
  {
   "cell_type": "code",
   "execution_count": 99,
   "id": "5ecd2d8c",
   "metadata": {},
   "outputs": [
    {
     "data": {
      "text/plain": [
       "11.014283149347039"
      ]
     },
     "execution_count": 99,
     "metadata": {},
     "output_type": "execute_result"
    }
   ],
   "source": [
    "\n",
    "\n",
    "def read_and_clean(month: str):\n",
    "    filename = \"data/fhv_tripdata_2021-{}.parquet\".format(month)\n",
    "    df = pd.read_parquet(filename)\n",
    "    df['duration'] = (df[\"dropOff_datetime\"] - df[\"pickup_datetime\"]).apply(lambda x: x.total_seconds()/60)\n",
    "    \n",
    "    df['PUlocationID'] = df['PUlocationID'].fillna(-1)\n",
    "    df['DOlocationID'] = df['DOlocationID'].fillna(-1)\n",
    "    \n",
    "    df['PUlocationID'] = df['PUlocationID'].astype(str)\n",
    "    df['DOlocationID'] = df['DOlocationID'].astype(str)\n",
    "    \n",
    "    df = df[(df['duration']<=60) & (df['duration']>=1)]\n",
    "    \n",
    "    return df\n",
    "    \n",
    "df_val = read_and_clean(\"02\")\n",
    "\n",
    "X_val = dic_vec.transform(df_val[['PUlocationID', 'DOlocationID']].to_dict(orient='records'))\n",
    "y_val = df_val['duration']\n",
    "\n",
    "y_pred_val = lr.predict(X_val)\n",
    "\n",
    "rmse_val = mean_squared_error(y_val, y_pred_val, squared = False)\n",
    "rmse_val"
   ]
  }
 ],
 "metadata": {
  "kernelspec": {
   "display_name": "Python 3 (ipykernel)",
   "language": "python",
   "name": "python3"
  },
  "language_info": {
   "codemirror_mode": {
    "name": "ipython",
    "version": 3
   },
   "file_extension": ".py",
   "mimetype": "text/x-python",
   "name": "python",
   "nbconvert_exporter": "python",
   "pygments_lexer": "ipython3",
   "version": "3.9.12"
  }
 },
 "nbformat": 4,
 "nbformat_minor": 5
}
